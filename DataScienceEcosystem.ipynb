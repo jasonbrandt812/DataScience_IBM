{
 "cells": [
  {
   "cell_type": "markdown",
   "id": "a492fe9d-3e6e-425b-b9e1-27fb7e3f0889",
   "metadata": {},
   "source": [
    "# Data Science Tools and Ecosystem"
   ]
  },
  {
   "cell_type": "markdown",
   "id": "95f20468-850c-4cfe-b37b-6a37a4da7ee0",
   "metadata": {},
   "source": [
    "In this Notebook, Data Science Tools and Ecosystems are summarized"
   ]
  },
  {
   "cell_type": "markdown",
   "id": "dc606653-ccfd-4106-9bed-050bbcc978a6",
   "metadata": {},
   "source": [
    "***Objectives:***"
   ]
  },
  {
   "cell_type": "markdown",
   "id": "d25c442a-c55b-44e4-9800-867a75138a8e",
   "metadata": {},
   "source": [
    "* Indicate the popular programming languages for data science\n",
    "* List popular Integrated Development Environments for data scientists\n",
    "* Evaluate simple arithmetic expressions in python"
   ]
  },
  {
   "cell_type": "markdown",
   "id": "4ddf8c62-9201-4a1f-88ce-325e5ea8fa82",
   "metadata": {},
   "source": [
    "Some of the popular languages that Data Scientists use are: \n",
    "\n",
    "1. R \n",
    "2. Python\n",
    "3. SQL"
   ]
  },
  {
   "cell_type": "markdown",
   "id": "abbf7c2d-6131-4ce0-be05-d401716866ce",
   "metadata": {},
   "source": [
    "Some of the commonly used libraries used by Data Scientists include: \n",
    "\n",
    "1. pandas\n",
    "2. NumPy\n",
    "3. matplotlib"
   ]
  },
  {
   "cell_type": "markdown",
   "id": "e3fe4fd2-700f-4595-9a6d-7005e2da5ccf",
   "metadata": {},
   "source": [
    "| Data Science Tools |\n",
    "| ---------|\n",
    "| Rstudio |\n",
    "|Jupyter Notebooks | \n",
    "| Visual Studio Code |"
   ]
  },
  {
   "cell_type": "markdown",
   "id": "f26c0393-a2ed-48b3-8600-36c34199a25e",
   "metadata": {},
   "source": [
    "### Below are a few examples of evaluating arithmetic expressions in Python. "
   ]
  },
  {
   "cell_type": "markdown",
   "id": "8012aeb1-4372-47fc-a10b-2db399462144",
   "metadata": {},
   "source": [
    "This is a simple arithmetic expression to multiply then add integers. "
   ]
  },
  {
   "cell_type": "code",
   "execution_count": 1,
   "id": "8f76b4f3-9229-4c6a-9e70-a1bf78532845",
   "metadata": {},
   "outputs": [
    {
     "data": {
      "text/plain": [
       "17"
      ]
     },
     "execution_count": 1,
     "metadata": {},
     "output_type": "execute_result"
    }
   ],
   "source": [
    "(3*4)+5"
   ]
  },
  {
   "cell_type": "markdown",
   "id": "7c703f61-a1d2-48b9-82ad-0b9a6d7d4699",
   "metadata": {},
   "source": [
    "This will convert 200 minutes to hours by dividing by 60"
   ]
  },
  {
   "cell_type": "code",
   "execution_count": 2,
   "id": "f5af3f8d-1221-4d49-ab71-292423b92a17",
   "metadata": {},
   "outputs": [
    {
     "data": {
      "text/plain": [
       "3.3333333333333335"
      ]
     },
     "execution_count": 2,
     "metadata": {},
     "output_type": "execute_result"
    }
   ],
   "source": [
    "200/60"
   ]
  },
  {
   "cell_type": "markdown",
   "id": "fac707ef-cd12-4a17-a670-37107e4eb6d0",
   "metadata": {},
   "source": [
    "## Author"
   ]
  },
  {
   "cell_type": "markdown",
   "id": "220a5457-8b00-4197-977f-7ba528f285c8",
   "metadata": {},
   "source": [
    "Jason Brandt"
   ]
  },
  {
   "cell_type": "code",
   "execution_count": null,
   "id": "845cc84b-abce-4cfb-80a7-dafe037d4e9c",
   "metadata": {},
   "outputs": [],
   "source": []
  }
 ],
 "metadata": {
  "kernelspec": {
   "display_name": "Python 3 (ipykernel)",
   "language": "python",
   "name": "python3"
  },
  "language_info": {
   "codemirror_mode": {
    "name": "ipython",
    "version": 3
   },
   "file_extension": ".py",
   "mimetype": "text/x-python",
   "name": "python",
   "nbconvert_exporter": "python",
   "pygments_lexer": "ipython3",
   "version": "3.11.7"
  }
 },
 "nbformat": 4,
 "nbformat_minor": 5
}
